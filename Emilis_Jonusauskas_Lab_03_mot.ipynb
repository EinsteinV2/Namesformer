{
  "nbformat": 4,
  "nbformat_minor": 0,
  "metadata": {
    "colab": {
      "provenance": []
    },
    "kernelspec": {
      "name": "python3",
      "display_name": "Python 3"
    },
    "language_info": {
      "name": "python"
    }
  },
  "cells": [
    {
      "cell_type": "code",
      "execution_count": 2,
      "metadata": {
        "id": "vvvix00TOej_"
      },
      "outputs": [],
      "source": [
        "import torch\n",
        "import torch.nn as nn\n",
        "import torch.optim as optim\n",
        "import numpy as np\n",
        "import pandas as pd\n",
        "import matplotlib.pyplot as plt\n",
        "from torch.utils.data import DataLoader, Dataset\n",
        "from torch.nn.utils.rnn import pad_sequence\n",
        "import unicodedata\n",
        "import requests\n",
        "from bs4 import BeautifulSoup\n",
        "import random"
      ]
    },
    {
      "cell_type": "code",
      "source": [
        "names = []\n",
        "for key in ['a', 'b', 'c', 'c-2', 'd', 'e', 'f', 'g', 'h', 'i', 'j', 'k', 'l',\n",
        "            'm', 'n', 'o', 'p', 'r', 's', 's-2', 't', 'u', 'v', 'z', 'z-2']:\n",
        "    url = f'https://vardai.vlkk.lt/sarasas/{key}/'\n",
        "    response = requests.get(url)\n",
        "    soup = BeautifulSoup(response.text, 'html.parser')\n",
        "    links = soup.find_all('a', class_='names_list__links names_list__links--woman')\n",
        "    names += [name.text for name in links]\n",
        "\n",
        "np.savetxt('mot_vardai.txt', names, fmt='%s', header='name', comments='', newline='\\n')"
      ],
      "metadata": {
        "id": "4hNYO1qfPkut"
      },
      "execution_count": 3,
      "outputs": []
    },
    {
      "cell_type": "markdown",
      "source": [
        "Panaikinau kirčius, kad nesigautų vardų kaip Siontr̃ra. Taip pat panaikinau didžiąsias raides, dėl kodo efektyvumo."
      ],
      "metadata": {
        "id": "n-0PdP9zcOl9"
      }
    },
    {
      "cell_type": "code",
      "source": [
        "class NameDataset(Dataset):\n",
        "    def __init__(self, csv_file):\n",
        "        # Load and preprocess names\n",
        "        self.names = self._preprocess_names(pd.read_csv(csv_file)['name'].values)\n",
        "\n",
        "        # Build vocabulary (characters + padding space)\n",
        "        lithuanian_letters = \"ąčęėįšųū\"\n",
        "        self.chars = sorted(list(set(''.join(self.names) + lithuanian_letters + ' ')))  # Including a padding character\n",
        "        self.char_to_int = {c: i for i, c in enumerate(self.chars)}\n",
        "        self.int_to_char = {i: c for c, i in self.char_to_int.items()}\n",
        "        self.vocab_size = len(self.chars)\n",
        "\n",
        "    def _preprocess_names(self, names):\n",
        "        \"\"\"Removes accentuation and normalizes the names.\"\"\"\n",
        "        return [\n",
        "            ''.join(\n",
        "                c for c in unicodedata.normalize('NFD', name)\n",
        "                if unicodedata.category(c) != 'Mn'\n",
        "            ).lower()\n",
        "            for name in names\n",
        "        ]\n",
        "\n",
        "    def __len__(self):\n",
        "        return len(self.names)\n",
        "\n",
        "    def __getitem__(self, idx):\n",
        "        # Add a padding character at the end\n",
        "        name = self.names[idx] + ' '\n",
        "        # Encode the name into integers\n",
        "        encoded_name = [self.char_to_int[char] for char in name]\n",
        "        return torch.tensor(encoded_name)"
      ],
      "metadata": {
        "id": "Kgs4Ser0OpUk"
      },
      "execution_count": 4,
      "outputs": []
    },
    {
      "cell_type": "code",
      "source": [
        "dataset = NameDataset('mot_vardai.txt')\n",
        "\n",
        "# Custom collate function for padding\n",
        "def pad_collate(batch):\n",
        "    padded_seqs = pad_sequence(batch, batch_first=True, padding_value=0)\n",
        "    input_seq = padded_seqs[:, :-1]\n",
        "    target_seq = padded_seqs[:, 1:]\n",
        "    return input_seq, target_seq\n",
        "\n",
        "dataloader = DataLoader(dataset, batch_size=32, shuffle=True, collate_fn=pad_collate)"
      ],
      "metadata": {
        "id": "qHjPX-bzRRhX"
      },
      "execution_count": 5,
      "outputs": []
    },
    {
      "cell_type": "markdown",
      "source": [
        "Epochų skaičių palikau ties 50, nes su didesniu skaičiu vardai tampa prasti"
      ],
      "metadata": {
        "id": "O6TGIHdgcMaa"
      }
    },
    {
      "cell_type": "code",
      "source": [
        "class MinimalTransformer(nn.Module):\n",
        "    def __init__(self, vocab_size, embed_size, num_heads, forward_expansion):\n",
        "        super(MinimalTransformer, self).__init__()\n",
        "        self.embed = nn.Embedding(vocab_size, embed_size)\n",
        "        self.positional_encoding = nn.Parameter(torch.randn(1, 100, embed_size))\n",
        "        self.encoder_layer = nn.TransformerEncoderLayer(d_model=embed_size, nhead=num_heads)\n",
        "        self.transformer_encoder = nn.TransformerEncoder(self.encoder_layer, num_layers=1)\n",
        "        self.output_layer = nn.Linear(embed_size, vocab_size)\n",
        "\n",
        "    def forward(self, x):\n",
        "        positions = torch.arange(0, x.size(1)).unsqueeze(0)\n",
        "        x = self.embed(x) + self.positional_encoding[:, :x.size(1), :]\n",
        "        x = self.transformer_encoder(x)\n",
        "        x = self.output_layer(x)\n",
        "        return x\n",
        "\n",
        "# Training Loop\n",
        "def train_model(model, dataloader, epochs=50):\n",
        "    criterion = nn.CrossEntropyLoss()\n",
        "    optimizer = optim.Adam(model.parameters(),lr=0.001)\n",
        "\n",
        "    for epoch in range(epochs):\n",
        "        model.train()  # Ensure the model is in training mode\n",
        "        total_loss = 0.0\n",
        "        batch_count = 0\n",
        "\n",
        "        for batch_idx, (input_seq, target_seq) in enumerate(dataloader):\n",
        "            optimizer.zero_grad()\n",
        "            output = model(input_seq)\n",
        "            loss = criterion(output.transpose(1, 2), target_seq)\n",
        "            loss.backward()\n",
        "            optimizer.step()\n",
        "\n",
        "            total_loss += loss.item()\n",
        "            batch_count += 1\n",
        "\n",
        "        average_loss = total_loss / batch_count\n",
        "        print(f'Epoch {epoch+1}, Average Loss: {average_loss}')\n",
        "\n",
        "model = MinimalTransformer(vocab_size=dataset.vocab_size, embed_size=128, num_heads=8, forward_expansion=4)\n",
        "train_model(model, dataloader)"
      ],
      "metadata": {
        "colab": {
          "base_uri": "https://localhost:8080/"
        },
        "id": "AalaBVkJOs1b",
        "outputId": "f13c0511-81e7-445b-e103-be0690a88d6b"
      },
      "execution_count": 6,
      "outputs": [
        {
          "output_type": "stream",
          "name": "stderr",
          "text": [
            "/usr/local/lib/python3.10/dist-packages/torch/nn/modules/transformer.py:379: UserWarning: enable_nested_tensor is True, but self.use_nested_tensor is False because encoder_layer.self_attn.batch_first was not True(use batch_first for better inference performance)\n",
            "  warnings.warn(\n"
          ]
        },
        {
          "output_type": "stream",
          "name": "stdout",
          "text": [
            "Epoch 1, Average Loss: 1.325239244260286\n",
            "Epoch 2, Average Loss: 1.1924356688234143\n",
            "Epoch 3, Average Loss: 1.1764443709438008\n",
            "Epoch 4, Average Loss: 1.1697622264238228\n",
            "Epoch 5, Average Loss: 1.1671199619321895\n",
            "Epoch 6, Average Loss: 1.1536292200697993\n",
            "Epoch 7, Average Loss: 1.1488150183419537\n",
            "Epoch 8, Average Loss: 1.1505604112954964\n",
            "Epoch 9, Average Loss: 1.1417791704486187\n",
            "Epoch 10, Average Loss: 1.144994414838633\n",
            "Epoch 11, Average Loss: 1.1508483882237197\n",
            "Epoch 12, Average Loss: 1.13883818540358\n",
            "Epoch 13, Average Loss: 1.1465516327915335\n",
            "Epoch 14, Average Loss: 1.1435371341561913\n",
            "Epoch 15, Average Loss: 1.1448836716494166\n",
            "Epoch 16, Average Loss: 1.1371283446039473\n",
            "Epoch 17, Average Loss: 1.1405127214309865\n",
            "Epoch 18, Average Loss: 1.128693099308731\n",
            "Epoch 19, Average Loss: 1.1308941948682742\n",
            "Epoch 20, Average Loss: 1.1327039030261505\n",
            "Epoch 21, Average Loss: 1.1314554752263808\n",
            "Epoch 22, Average Loss: 1.1350358339180624\n",
            "Epoch 23, Average Loss: 1.1272439893923307\n",
            "Epoch 24, Average Loss: 1.1414681552048016\n",
            "Epoch 25, Average Loss: 1.132768940656705\n",
            "Epoch 26, Average Loss: 1.1355322711449816\n",
            "Epoch 27, Average Loss: 1.1373033989641004\n",
            "Epoch 28, Average Loss: 1.1339640110955203\n",
            "Epoch 29, Average Loss: 1.13107474943749\n",
            "Epoch 30, Average Loss: 1.132471097143073\n",
            "Epoch 31, Average Loss: 1.13458044770965\n",
            "Epoch 32, Average Loss: 1.1309480326516288\n",
            "Epoch 33, Average Loss: 1.1286080717144156\n",
            "Epoch 34, Average Loss: 1.1339416096084995\n",
            "Epoch 35, Average Loss: 1.1250673698303395\n",
            "Epoch 36, Average Loss: 1.1315494856440036\n",
            "Epoch 37, Average Loss: 1.1254914837672298\n",
            "Epoch 38, Average Loss: 1.1322711482083887\n",
            "Epoch 39, Average Loss: 1.1304200807012112\n",
            "Epoch 40, Average Loss: 1.1283603162693798\n",
            "Epoch 41, Average Loss: 1.1268026774987243\n",
            "Epoch 42, Average Loss: 1.1263676747343594\n",
            "Epoch 43, Average Loss: 1.136287368329844\n",
            "Epoch 44, Average Loss: 1.137987212579053\n",
            "Epoch 45, Average Loss: 1.1230105547080362\n",
            "Epoch 46, Average Loss: 1.1228858165274886\n",
            "Epoch 47, Average Loss: 1.131322038801093\n",
            "Epoch 48, Average Loss: 1.121459486789273\n",
            "Epoch 49, Average Loss: 1.1298676375159644\n",
            "Epoch 50, Average Loss: 1.12835969602255\n"
          ]
        }
      ]
    },
    {
      "cell_type": "markdown",
      "source": [
        "Įdiegiau keletą papildomų sąlygų, kad moteriški vardai būtų lietuviški :\n",
        "\n",
        "1.    Vieni ilgiausių moteriškų vardų Lietuvoje yra sudaryti iš 10 raidžių , todėl modelis generuoja tik maksimaliai 11 raidžių vardus\n",
        "2.   Vardai turi baigtis raide 'a' arba 'ė'\n",
        "\n"
      ],
      "metadata": {
        "id": "T7ku4CZQbL7N"
      }
    },
    {
      "cell_type": "code",
      "source": [
        "def sample(model, dataset, start_str='a', max_length=11,temperature =1):\n",
        "    assert temperature > 0\n",
        "    model.eval()  # Switch to evaluation mode\n",
        "    with torch.no_grad():\n",
        "        # Convert start string to tensor\n",
        "        chars = [dataset.char_to_int[c] for c in start_str]\n",
        "        input_seq = torch.tensor(chars).unsqueeze(0)  # Add batch dimension\n",
        "\n",
        "        output_name = start_str\n",
        "        vowels = set(\"aė\")  # Including Lithuanian vowel 'ė'\n",
        "\n",
        "        for _ in range(max_length - len(start_str)):\n",
        "            output = model(input_seq)\n",
        "\n",
        "            # Get the last character from the output\n",
        "            logits = output[0, -1] / temperature\n",
        "            probabilities = torch.softmax(logits, dim=0)\n",
        "            # Sample a character from the probability distribution\n",
        "            next_char_idx = torch.multinomial(probabilities, 1).item()\n",
        "            next_char = dataset.int_to_char[next_char_idx]\n",
        "\n",
        "            if next_char == ' ':  # Assume ' ' is your end-of-sequence character\n",
        "                break\n",
        "\n",
        "            output_name += next_char\n",
        "            # Update the input sequence for the next iteration\n",
        "            input_seq = torch.cat([input_seq, torch.tensor([[next_char_idx]])], dim=1)\n",
        "\n",
        "        # Enforce valid ending character\n",
        "        if output_name[-1] not in vowels:\n",
        "            output_name = output_name.rstrip()[:-1] + random.choice(list(vowels))\n",
        "\n",
        "        return output_name\n",
        "\n",
        "# After training your model, generate a name starting with a specific letter\n",
        "for _ in range(15):\n",
        "    generated_name = sample(model, dataset, start_str='skal',temperature=0.5)\n",
        "    print(generated_name.capitalize())"
      ],
      "metadata": {
        "colab": {
          "base_uri": "https://localhost:8080/"
        },
        "id": "51QIUkTdOxBc",
        "outputId": "c8f7a6ee-99dc-43fa-9b89-74eaaf068923"
      },
      "execution_count": 18,
      "outputs": [
        {
          "output_type": "stream",
          "name": "stdout",
          "text": [
            "Skala\n",
            "Skala\n",
            "Skalija\n",
            "Skalija\n",
            "Skalija\n",
            "Skala\n",
            "Skalila\n",
            "Skalija\n",
            "Skalinta\n",
            "Skalė\n",
            "Skalė\n",
            "Skala\n",
            "Skalė\n",
            "Skalija\n",
            "Skalė\n"
          ]
        }
      ]
    }
  ]
}